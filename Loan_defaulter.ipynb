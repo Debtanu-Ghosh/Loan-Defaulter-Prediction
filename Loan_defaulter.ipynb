{
  "nbformat": 4,
  "nbformat_minor": 0,
  "metadata": {
    "colab": {
      "provenance": [],
      "authorship_tag": "ABX9TyN5tOBpDz+CGhUm+B8i6PkL"
    },
    "kernelspec": {
      "name": "ir",
      "display_name": "R"
    },
    "language_info": {
      "name": "R"
    }
  },
  "cells": [
    {
      "cell_type": "markdown",
      "source": [
        "# Loan Defaulter Prediction using R"
      ],
      "metadata": {
        "id": "Y2gWTVtHw9PM"
      }
    },
    {
      "cell_type": "code",
      "source": [
        "install.packages(\"ggplot2\")\n",
        "install.packages(\"glmnet\")\n",
        "install.packages(\"tidymodels\")"
      ],
      "metadata": {
        "colab": {
          "base_uri": "https://localhost:8080/"
        },
        "id": "ZdbmseDhwlVu",
        "outputId": "656bb85a-f7ba-4009-cfe5-65f9747dce0e",
        "collapsed": true
      },
      "execution_count": null,
      "outputs": [
        {
          "metadata": {
            "tags": null
          },
          "name": "stderr",
          "output_type": "stream",
          "text": [
            "Installing package into ‘/usr/local/lib/R/site-library’\n",
            "(as ‘lib’ is unspecified)\n",
            "\n",
            "Installing package into ‘/usr/local/lib/R/site-library’\n",
            "(as ‘lib’ is unspecified)\n",
            "\n",
            "also installing the dependencies ‘iterators’, ‘foreach’, ‘shape’, ‘Rcpp’, ‘RcppEigen’\n",
            "\n",
            "\n",
            "Installing package into ‘/usr/local/lib/R/site-library’\n",
            "(as ‘lib’ is unspecified)\n",
            "\n",
            "also installing the dependencies ‘numDeriv’, ‘progressr’, ‘SQUAREM’, ‘diagram’, ‘lava’, ‘prodlim’, ‘warp’, ‘future.apply’, ‘listenv’, ‘parallelly’, ‘lhs’, ‘DiceDesign’, ‘patchwork’, ‘globals’, ‘clock’, ‘gower’, ‘ipred’, ‘timeDate’, ‘furrr’, ‘slider’, ‘doFuture’, ‘future’, ‘GPfit’, ‘modelenv’, ‘dials’, ‘hardhat’, ‘infer’, ‘modeldata’, ‘parsnip’, ‘recipes’, ‘rsample’, ‘rstudioapi’, ‘tune’, ‘workflows’, ‘workflowsets’, ‘yardstick’\n",
            "\n",
            "\n"
          ]
        }
      ]
    },
    {
      "cell_type": "code",
      "source": [
        "library(ggplot2)\n",
        "library(glmnet)\n",
        "library(tidymodels)"
      ],
      "metadata": {
        "colab": {
          "base_uri": "https://localhost:8080/"
        },
        "id": "EdxTLFeywxoX",
        "outputId": "6bde397d-a24c-42db-bda0-b85fdddba6e3",
        "collapsed": true
      },
      "execution_count": null,
      "outputs": [
        {
          "output_type": "stream",
          "name": "stderr",
          "text": [
            "Loading required package: Matrix\n",
            "\n",
            "Loaded glmnet 4.1-8\n",
            "\n",
            "── \u001b[1mAttaching packages\u001b[22m ────────────────────────────────────── tidymodels 1.2.0 ──\n",
            "\n",
            "\u001b[32m✔\u001b[39m \u001b[34mbroom       \u001b[39m 1.0.5      \u001b[32m✔\u001b[39m \u001b[34mrsample     \u001b[39m 1.2.1 \n",
            "\u001b[32m✔\u001b[39m \u001b[34mdials       \u001b[39m 1.2.1      \u001b[32m✔\u001b[39m \u001b[34mtibble      \u001b[39m 3.2.1 \n",
            "\u001b[32m✔\u001b[39m \u001b[34mdplyr       \u001b[39m 1.1.4      \u001b[32m✔\u001b[39m \u001b[34mtidyr       \u001b[39m 1.3.1 \n",
            "\u001b[32m✔\u001b[39m \u001b[34minfer       \u001b[39m 1.0.7      \u001b[32m✔\u001b[39m \u001b[34mtune        \u001b[39m 1.2.1 \n",
            "\u001b[32m✔\u001b[39m \u001b[34mmodeldata   \u001b[39m 1.3.0      \u001b[32m✔\u001b[39m \u001b[34mworkflows   \u001b[39m 1.1.4 \n",
            "\u001b[32m✔\u001b[39m \u001b[34mparsnip     \u001b[39m 1.2.1      \u001b[32m✔\u001b[39m \u001b[34mworkflowsets\u001b[39m 1.1.0 \n",
            "\u001b[32m✔\u001b[39m \u001b[34mpurrr       \u001b[39m 1.0.2      \u001b[32m✔\u001b[39m \u001b[34myardstick   \u001b[39m 1.3.1 \n",
            "\u001b[32m✔\u001b[39m \u001b[34mrecipes     \u001b[39m 1.0.10     \n",
            "\n",
            "── \u001b[1mConflicts\u001b[22m ───────────────────────────────────────── tidymodels_conflicts() ──\n",
            "\u001b[31m✖\u001b[39m \u001b[34mpurrr\u001b[39m::\u001b[32m%||%()\u001b[39m     masks \u001b[34mbase\u001b[39m::%||%()\n",
            "\u001b[31m✖\u001b[39m \u001b[34mpurrr\u001b[39m::\u001b[32mdiscard()\u001b[39m  masks \u001b[34mscales\u001b[39m::discard()\n",
            "\u001b[31m✖\u001b[39m \u001b[34mtidyr\u001b[39m::\u001b[32mexpand()\u001b[39m   masks \u001b[34mMatrix\u001b[39m::expand()\n",
            "\u001b[31m✖\u001b[39m \u001b[34mdplyr\u001b[39m::\u001b[32mfilter()\u001b[39m   masks \u001b[34mstats\u001b[39m::filter()\n",
            "\u001b[31m✖\u001b[39m \u001b[34mdplyr\u001b[39m::\u001b[32mlag()\u001b[39m      masks \u001b[34mstats\u001b[39m::lag()\n",
            "\u001b[31m✖\u001b[39m \u001b[34mtidyr\u001b[39m::\u001b[32mpack()\u001b[39m     masks \u001b[34mMatrix\u001b[39m::pack()\n",
            "\u001b[31m✖\u001b[39m \u001b[34mrecipes\u001b[39m::\u001b[32mstep()\u001b[39m   masks \u001b[34mstats\u001b[39m::step()\n",
            "\u001b[31m✖\u001b[39m \u001b[34mtidyr\u001b[39m::\u001b[32munpack()\u001b[39m   masks \u001b[34mMatrix\u001b[39m::unpack()\n",
            "\u001b[31m✖\u001b[39m \u001b[34mrecipes\u001b[39m::\u001b[32mupdate()\u001b[39m masks \u001b[34mMatrix\u001b[39m::update(), \u001b[34mstats\u001b[39m::update()\n",
            "\u001b[34m•\u001b[39m Use suppressPackageStartupMessages() to eliminate package startup messages\n",
            "\n"
          ]
        }
      ]
    },
    {
      "cell_type": "markdown",
      "source": [
        "## Data exploration and model"
      ],
      "metadata": {
        "id": "od5IOBBGxDB7"
      }
    },
    {
      "cell_type": "code",
      "source": [
        "df.bank = read.csv(\"bank-loan.csv\")\n",
        "print(head(df.bank))"
      ],
      "metadata": {
        "colab": {
          "base_uri": "https://localhost:8080/"
        },
        "id": "t0D6ioRuxCLL",
        "outputId": "d7a671b1-b1e7-4b88-aa09-1277a984982b"
      },
      "execution_count": null,
      "outputs": [
        {
          "output_type": "stream",
          "name": "stdout",
          "text": [
            "  age ed employ address income debtinc  creddebt  othdebt default\n",
            "1  41  3     17      12    176     9.3 11.359392 5.008608       1\n",
            "2  27  1     10       6     31    17.3  1.362202 4.000798       0\n",
            "3  40  1     15      14     55     5.5  0.856075 2.168925       0\n",
            "4  41  1     15      14    120     2.9  2.658720 0.821280       0\n",
            "5  24  2      2       0     28    17.3  1.787436 3.056564       1\n",
            "6  41  2      5       5     25    10.2  0.392700 2.157300       0\n"
          ]
        }
      ]
    },
    {
      "cell_type": "code",
      "source": [
        "# Make default as factor\n",
        "df.bank$default = as.factor(df.bank$default)"
      ],
      "metadata": {
        "id": "wnfzwBGLyKry"
      },
      "execution_count": null,
      "outputs": []
    },
    {
      "cell_type": "code",
      "source": [
        "str(df.bank)"
      ],
      "metadata": {
        "colab": {
          "base_uri": "https://localhost:8080/"
        },
        "id": "jR9GDvB0yGsu",
        "outputId": "8511bfbb-f9aa-4bd7-f4bb-6478a6196c8d"
      },
      "execution_count": null,
      "outputs": [
        {
          "output_type": "stream",
          "name": "stdout",
          "text": [
            "'data.frame':\t850 obs. of  9 variables:\n",
            " $ age     : int  41 27 40 41 24 41 39 43 24 36 ...\n",
            " $ ed      : int  3 1 1 1 2 2 1 1 1 1 ...\n",
            " $ employ  : int  17 10 15 15 2 5 20 12 3 0 ...\n",
            " $ address : int  12 6 14 14 0 5 9 11 4 13 ...\n",
            " $ income  : int  176 31 55 120 28 25 67 38 19 25 ...\n",
            " $ debtinc : num  9.3 17.3 5.5 2.9 17.3 10.2 30.6 3.6 24.4 19.7 ...\n",
            " $ creddebt: num  11.359 1.362 0.856 2.659 1.787 ...\n",
            " $ othdebt : num  5.009 4.001 2.169 0.821 3.057 ...\n",
            " $ default : Factor w/ 2 levels \"0\",\"1\": 2 1 1 1 2 1 1 1 2 1 ...\n"
          ]
        }
      ]
    },
    {
      "cell_type": "code",
      "source": [
        "# NA values finding\n",
        "print(colSums(is.na(df.bank)))"
      ],
      "metadata": {
        "colab": {
          "base_uri": "https://localhost:8080/"
        },
        "id": "wTC7SSM3yVqs",
        "outputId": "1111efba-b7dc-4752-94af-e33ec4efdb7c"
      },
      "execution_count": null,
      "outputs": [
        {
          "output_type": "stream",
          "name": "stdout",
          "text": [
            "     age       ed   employ  address   income  debtinc creddebt  othdebt \n",
            "       0        0        0        0        0        0        0        0 \n",
            " default \n",
            "     150 \n"
          ]
        }
      ]
    },
    {
      "cell_type": "code",
      "source": [
        "# Since there is no instruction what to do with NA values we just drop them\n",
        "df = na.omit(df.bank)"
      ],
      "metadata": {
        "id": "fT3Lv9V6yiPK"
      },
      "execution_count": null,
      "outputs": []
    },
    {
      "cell_type": "code",
      "source": [
        "print(colSums(is.na(df)))"
      ],
      "metadata": {
        "colab": {
          "base_uri": "https://localhost:8080/"
        },
        "id": "sTfV_iSY4nJJ",
        "outputId": "1220ddcb-97f2-48eb-c382-353a9191d4cc"
      },
      "execution_count": null,
      "outputs": [
        {
          "output_type": "stream",
          "name": "stdout",
          "text": [
            "     age       ed   employ  address   income  debtinc creddebt  othdebt \n",
            "       0        0        0        0        0        0        0        0 \n",
            " default \n",
            "       0 \n"
          ]
        }
      ]
    },
    {
      "cell_type": "code",
      "source": [
        "# Summary of the data set\n",
        "print(lapply(df, FUN = summary))"
      ],
      "metadata": {
        "colab": {
          "base_uri": "https://localhost:8080/"
        },
        "id": "TgRnlM4XyGi8",
        "outputId": "43fa12d8-0d80-41de-b06f-5fbbf8236a47"
      },
      "execution_count": null,
      "outputs": [
        {
          "output_type": "stream",
          "name": "stdout",
          "text": [
            "$age\n",
            "   Min. 1st Qu.  Median    Mean 3rd Qu.    Max. \n",
            "  20.00   29.00   34.00   34.86   40.00   56.00 \n",
            "\n",
            "$ed\n",
            "   Min. 1st Qu.  Median    Mean 3rd Qu.    Max. \n",
            "  1.000   1.000   1.000   1.716   2.000   4.000 \n",
            "\n",
            "$employ\n",
            "   Min. 1st Qu.  Median    Mean 3rd Qu.    Max. \n",
            "  0.000   3.000   7.000   8.389  12.000  31.000 \n",
            "\n",
            "$address\n",
            "   Min. 1st Qu.  Median    Mean 3rd Qu.    Max. \n",
            "  0.000   3.000   7.000   8.279  12.000  34.000 \n",
            "\n",
            "$income\n",
            "   Min. 1st Qu.  Median    Mean 3rd Qu.    Max. \n",
            "   14.0    24.0    34.0    45.6    55.0   446.0 \n",
            "\n",
            "$debtinc\n",
            "   Min. 1st Qu.  Median    Mean 3rd Qu.    Max. \n",
            "   0.40    5.00    8.60   10.26   14.12   41.30 \n",
            "\n",
            "$creddebt\n",
            "   Min. 1st Qu.  Median    Mean 3rd Qu.    Max. \n",
            " 0.0117  0.3691  0.8549  1.5536  1.9020 20.5613 \n",
            "\n",
            "$othdebt\n",
            "    Min.  1st Qu.   Median     Mean  3rd Qu.     Max. \n",
            " 0.04558  1.04418  1.98757  3.05821  3.92306 27.03360 \n",
            "\n",
            "$default\n",
            "  0   1 \n",
            "517 183 \n",
            "\n"
          ]
        }
      ]
    },
    {
      "cell_type": "code",
      "source": [
        "par(mfrow = c(2,1))\n",
        "barplot(table(df$ed), col = c(\"lightgreen\", \"yellow\",\"orange\",\"blue\"),\n",
        "ylab = \"Number of obsevation\",\n",
        "xlab = \"Education\")\n",
        "barplot(table(df$default), col = c(\"pink\",\"lightblue\"),ylab = \"Number of observation\", xlab = \"Default\")"
      ],
      "metadata": {
        "colab": {
          "base_uri": "https://localhost:8080/",
          "height": 437
        },
        "id": "VMiUInGJ6IKG",
        "outputId": "d854a891-6ed5-4100-9446-8133dbefd577"
      },
      "execution_count": null,
      "outputs": [
        {
          "output_type": "display_data",
          "data": {
            "text/plain": [
              "plot without title"
            ],
            "image/png": "[encoded data removed]"
          },
          "metadata": {
            "image/png": {
              "width": 420,
              "height": 420
            }
          }
        }
      ]
    },
    {
      "cell_type": "code",
      "source": [
        "ggplot(df, aes(ed, fill = default)) +\n",
        "  geom_bar()"
      ],
      "metadata": {
        "colab": {
          "base_uri": "https://localhost:8080/",
          "height": 437
        },
        "id": "wymirqt26ADL",
        "outputId": "dd304249-8e51-4ecb-ed0b-6ddee49b4a66"
      },
      "execution_count": null,
      "outputs": [
        {
          "output_type": "display_data",
          "data": {
            "text/plain": [
              "plot without title"
            ],
            "image/png": "[encoded data removed]"
          },
          "metadata": {
            "image/png": {
              "width": 420,
              "height": 420
            }
          }
        }
      ]
    },
    {
      "cell_type": "code",
      "source": [
        "# train-test split\n",
        "set.seed(421)\n",
        "split = initial_split(df, prop = 0.8, strata = default)\n",
        "train = split %>%\n",
        "  training()\n",
        "val_test= split %>%\n",
        "  testing()"
      ],
      "metadata": {
        "id": "463r7uRB_7In"
      },
      "execution_count": null,
      "outputs": []
    },
    {
      "cell_type": "code",
      "source": [
        "print(dim(train))"
      ],
      "metadata": {
        "colab": {
          "base_uri": "https://localhost:8080/"
        },
        "id": "l7kYsvzaPIng",
        "outputId": "a48c480b-a1be-437e-8ef5-0cf5a132a469"
      },
      "execution_count": null,
      "outputs": [
        {
          "output_type": "stream",
          "name": "stdout",
          "text": [
            "[1] 559   9\n"
          ]
        }
      ]
    },
    {
      "cell_type": "code",
      "source": [
        "print(dim(val_test))"
      ],
      "metadata": {
        "colab": {
          "base_uri": "https://localhost:8080/"
        },
        "id": "13o7pH5JPNv4",
        "outputId": "6cc3b6bb-eddc-4e06-899a-6f12774da76a"
      },
      "execution_count": null,
      "outputs": [
        {
          "output_type": "stream",
          "name": "stdout",
          "text": [
            "[1] 141   9\n"
          ]
        }
      ]
    },
    {
      "cell_type": "code",
      "execution_count": null,
      "metadata": {
        "colab": {
          "base_uri": "https://localhost:8080/",
          "height": 451
        },
        "id": "txl9oekpRm8O",
        "outputId": "fb5845ee-5e3a-40cc-bbc7-9ba99e08ad36"
      },
      "outputs": [
        {
          "output_type": "display_data",
          "data": {
            "text/plain": [
              "\n",
              "Call:\n",
              "glm(formula = default ~ ., family = \"binomial\", data = train)\n",
              "\n",
              "Coefficients:\n",
              "             Estimate Std. Error z value Pr(>|z|)    \n",
              "(Intercept) -1.932219   0.692795  -2.789  0.00529 ** \n",
              "age          0.050381   0.019602   2.570  0.01017 *  \n",
              "ed           0.121287   0.141056   0.860  0.38987    \n",
              "employ      -0.267234   0.037417  -7.142 9.20e-13 ***\n",
              "address     -0.120499   0.025812  -4.668 3.04e-06 ***\n",
              "income      -0.006960   0.009751  -0.714  0.47537    \n",
              "debtinc      0.056472   0.034475   1.638  0.10141    \n",
              "creddebt     0.625906   0.125897   4.972 6.64e-07 ***\n",
              "othdebt      0.071951   0.087457   0.823  0.41067    \n",
              "---\n",
              "Signif. codes:  0 ‘***’ 0.001 ‘**’ 0.01 ‘*’ 0.05 ‘.’ 0.1 ‘ ’ 1\n",
              "\n",
              "(Dispersion parameter for binomial family taken to be 1)\n",
              "\n",
              "    Null deviance: 642.05  on 558  degrees of freedom\n",
              "Residual deviance: 449.36  on 550  degrees of freedom\n",
              "AIC: 467.36\n",
              "\n",
              "Number of Fisher Scoring iterations: 6\n"
            ]
          },
          "metadata": {}
        }
      ],
      "source": [
        "# Model\n",
        "log_lr = glm(default ~.,family = \"binomial\", train)\n",
        "summary(log_lr)\n"
      ]
    },
    {
      "cell_type": "code",
      "source": [
        "# Updated model\n",
        "log_lr = update(log_lr, ~.-income)\n",
        "summary(log_lr)"
      ],
      "metadata": {
        "colab": {
          "base_uri": "https://localhost:8080/",
          "height": 451
        },
        "id": "Nb-52uZeQsMJ",
        "outputId": "bbde655e-e0c1-483b-e9fd-2fed6f0e9155"
      },
      "execution_count": null,
      "outputs": [
        {
          "output_type": "display_data",
          "data": {
            "text/plain": [
              "\n",
              "Call:\n",
              "glm(formula = default ~ age + ed + employ + address + debtinc + \n",
              "    creddebt + othdebt, family = \"binomial\", data = train)\n",
              "\n",
              "Coefficients:\n",
              "            Estimate Std. Error z value Pr(>|z|)    \n",
              "(Intercept) -2.08172    0.65758  -3.166  0.00155 ** \n",
              "age          0.04890    0.01948   2.511  0.01205 *  \n",
              "ed           0.09760    0.13720   0.711  0.47685    \n",
              "employ      -0.26933    0.03746  -7.190 6.48e-13 ***\n",
              "address     -0.12067    0.02577  -4.682 2.84e-06 ***\n",
              "debtinc      0.07227    0.02577   2.805  0.00504 ** \n",
              "creddebt     0.57854    0.10273   5.632 1.78e-08 ***\n",
              "othdebt      0.03262    0.06692   0.487  0.62596    \n",
              "---\n",
              "Signif. codes:  0 ‘***’ 0.001 ‘**’ 0.01 ‘*’ 0.05 ‘.’ 0.1 ‘ ’ 1\n",
              "\n",
              "(Dispersion parameter for binomial family taken to be 1)\n",
              "\n",
              "    Null deviance: 642.05  on 558  degrees of freedom\n",
              "Residual deviance: 449.83  on 551  degrees of freedom\n",
              "AIC: 465.83\n",
              "\n",
              "Number of Fisher Scoring iterations: 6\n"
            ]
          },
          "metadata": {}
        }
      ]
    },
    {
      "cell_type": "code",
      "source": [
        "# Updated model\n",
        "log_lr = update(log_lr, ~.-othdebt)\n",
        "summary(log_lr)"
      ],
      "metadata": {
        "colab": {
          "base_uri": "https://localhost:8080/",
          "height": 433
        },
        "id": "pqj8viB0R1uf",
        "outputId": "e2026ed6-2d03-457b-a044-9a013ad07728"
      },
      "execution_count": null,
      "outputs": [
        {
          "output_type": "display_data",
          "data": {
            "text/plain": [
              "\n",
              "Call:\n",
              "glm(formula = default ~ age + ed + employ + address + debtinc + \n",
              "    creddebt, family = \"binomial\", data = train)\n",
              "\n",
              "Coefficients:\n",
              "            Estimate Std. Error z value Pr(>|z|)    \n",
              "(Intercept) -2.17853    0.62710  -3.474 0.000513 ***\n",
              "age          0.04938    0.01946   2.537 0.011169 *  \n",
              "ed           0.12067    0.12852   0.939 0.347788    \n",
              "employ      -0.26202    0.03404  -7.698 1.38e-14 ***\n",
              "address     -0.11976    0.02568  -4.664 3.11e-06 ***\n",
              "debtinc      0.07972    0.02074   3.844 0.000121 ***\n",
              "creddebt     0.58010    0.10224   5.674 1.39e-08 ***\n",
              "---\n",
              "Signif. codes:  0 ‘***’ 0.001 ‘**’ 0.01 ‘*’ 0.05 ‘.’ 0.1 ‘ ’ 1\n",
              "\n",
              "(Dispersion parameter for binomial family taken to be 1)\n",
              "\n",
              "    Null deviance: 642.05  on 558  degrees of freedom\n",
              "Residual deviance: 450.06  on 552  degrees of freedom\n",
              "AIC: 464.06\n",
              "\n",
              "Number of Fisher Scoring iterations: 6\n"
            ]
          },
          "metadata": {}
        }
      ]
    },
    {
      "cell_type": "code",
      "source": [
        "# Final model\n",
        "log_lr = update(log_lr, ~.-ed)\n",
        "summary(log_lr)"
      ],
      "metadata": {
        "colab": {
          "base_uri": "https://localhost:8080/",
          "height": 416
        },
        "id": "Pd-FSm46SuMm",
        "outputId": "a62325de-afc3-4dac-867f-e500c45649fb"
      },
      "execution_count": null,
      "outputs": [
        {
          "output_type": "display_data",
          "data": {
            "text/plain": [
              "\n",
              "Call:\n",
              "glm(formula = default ~ age + employ + address + debtinc + creddebt, \n",
              "    family = \"binomial\", data = train)\n",
              "\n",
              "Coefficients:\n",
              "            Estimate Std. Error z value Pr(>|z|)    \n",
              "(Intercept) -1.94178    0.57091  -3.401 0.000671 ***\n",
              "age          0.04940    0.01942   2.544 0.010955 *  \n",
              "employ      -0.26755    0.03360  -7.962 1.70e-15 ***\n",
              "address     -0.11783    0.02563  -4.598 4.26e-06 ***\n",
              "debtinc      0.07730    0.02057   3.758 0.000172 ***\n",
              "creddebt     0.59609    0.10131   5.884 4.01e-09 ***\n",
              "---\n",
              "Signif. codes:  0 ‘***’ 0.001 ‘**’ 0.01 ‘*’ 0.05 ‘.’ 0.1 ‘ ’ 1\n",
              "\n",
              "(Dispersion parameter for binomial family taken to be 1)\n",
              "\n",
              "    Null deviance: 642.05  on 558  degrees of freedom\n",
              "Residual deviance: 450.94  on 553  degrees of freedom\n",
              "AIC: 462.94\n",
              "\n",
              "Number of Fisher Scoring iterations: 6\n"
            ]
          },
          "metadata": {}
        }
      ]
    },
    {
      "cell_type": "code",
      "source": [
        "install.packages(\"caret\")\n",
        "library(caret)"
      ],
      "metadata": {
        "colab": {
          "base_uri": "https://localhost:8080/"
        },
        "id": "nJrZtognWCwr",
        "outputId": "0b4d1416-c31c-47e9-fe6f-f33a51a871c0",
        "collapsed": true
      },
      "execution_count": null,
      "outputs": [
        {
          "output_type": "stream",
          "name": "stderr",
          "text": [
            "Installing package into ‘/usr/local/lib/R/site-library’\n",
            "(as ‘lib’ is unspecified)\n",
            "\n",
            "also installing the dependencies ‘proxy’, ‘e1071’, ‘ModelMetrics’, ‘plyr’, ‘pROC’, ‘reshape2’\n",
            "\n",
            "\n",
            "Loading required package: lattice\n",
            "\n",
            "\n",
            "Attaching package: ‘caret’\n",
            "\n",
            "\n",
            "The following objects are masked from ‘package:yardstick’:\n",
            "\n",
            "    precision, recall, sensitivity, specificity\n",
            "\n",
            "\n",
            "The following object is masked from ‘package:purrr’:\n",
            "\n",
            "    lift\n",
            "\n",
            "\n"
          ]
        }
      ]
    },
    {
      "cell_type": "code",
      "source": [
        "prd_Val = predict(log_lr, type='response')\n",
        "prd_default = ifelse(prd_Val > 0.5, 1, 0)\n",
        "cnf_m = table(prd=prd_default, act=train$default)\n",
        "confusionMatrix(cnf_m)"
      ],
      "metadata": {
        "colab": {
          "base_uri": "https://localhost:8080/",
          "height": 485
        },
        "id": "zoj2dQnYfVKJ",
        "outputId": "a312a1c3-be7b-4387-8c4e-b0270b7c130b"
      },
      "execution_count": null,
      "outputs": [
        {
          "output_type": "display_data",
          "data": {
            "text/plain": [
              "Confusion Matrix and Statistics\n",
              "\n",
              "   act\n",
              "prd   0   1\n",
              "  0 380  73\n",
              "  1  33  73\n",
              "                                          \n",
              "               Accuracy : 0.8104          \n",
              "                 95% CI : (0.7754, 0.8421)\n",
              "    No Information Rate : 0.7388          \n",
              "    P-Value [Acc > NIR] : 4.344e-05       \n",
              "                                          \n",
              "                  Kappa : 0.4609          \n",
              "                                          \n",
              " Mcnemar's Test P-Value : 0.0001519       \n",
              "                                          \n",
              "            Sensitivity : 0.9201          \n",
              "            Specificity : 0.5000          \n",
              "         Pos Pred Value : 0.8389          \n",
              "         Neg Pred Value : 0.6887          \n",
              "             Prevalence : 0.7388          \n",
              "         Detection Rate : 0.6798          \n",
              "   Detection Prevalence : 0.8104          \n",
              "      Balanced Accuracy : 0.7100          \n",
              "                                          \n",
              "       'Positive' Class : 0               \n",
              "                                          "
            ]
          },
          "metadata": {}
        }
      ]
    },
    {
      "cell_type": "code",
      "source": [
        "install.packages(\"rcompanion\")\n",
        "library(rcompanion)"
      ],
      "metadata": {
        "colab": {
          "base_uri": "https://localhost:8080/"
        },
        "id": "p3AiJlP3p12L",
        "outputId": "c3e324e3-6483-4a26-ddf5-8de78dd50b41",
        "collapsed": true
      },
      "execution_count": null,
      "outputs": [
        {
          "output_type": "stream",
          "name": "stderr",
          "text": [
            "Installing package into ‘/usr/local/lib/R/site-library’\n",
            "(as ‘lib’ is unspecified)\n",
            "\n",
            "also installing the dependencies ‘rootSolve’, ‘lmom’, ‘TH.data’, ‘sandwich’, ‘mvtnorm’, ‘expm’, ‘Exact’, ‘gld’, ‘libcoin’, ‘matrixStats’, ‘modeltools’, ‘multcomp’, ‘zoo’, ‘DescTools’, ‘multcompView’, ‘coin’, ‘lmtest’, ‘nortest’\n",
            "\n",
            "\n",
            "\n",
            "Attaching package: ‘rcompanion’\n",
            "\n",
            "\n",
            "The following object is masked from ‘package:yardstick’:\n",
            "\n",
            "    accuracy\n",
            "\n",
            "\n"
          ]
        }
      ]
    },
    {
      "cell_type": "code",
      "source": [
        "print(nagelkerke(log_lr))"
      ],
      "metadata": {
        "colab": {
          "base_uri": "https://localhost:8080/"
        },
        "id": "9lIf7fQ4qC1m",
        "outputId": "9bf36a9d-1cb1-4e6e-fc80-1e4c75f708b3"
      },
      "execution_count": null,
      "outputs": [
        {
          "output_type": "stream",
          "name": "stdout",
          "text": [
            "$Models\n",
            "                                                                                    \n",
            "Model: \"glm, default ~ age + employ + address + debtinc + creddebt, binomial, train\"\n",
            "Null:  \"glm, default ~ 1, binomial, train\"                                          \n",
            "\n",
            "$Pseudo.R.squared.for.model.vs.null\n",
            "                             Pseudo.R.squared\n",
            "McFadden                             0.297658\n",
            "Cox and Snell (ML)                   0.289568\n",
            "Nagelkerke (Cragg and Uhler)         0.424020\n",
            "\n",
            "$Likelihood.ratio.test\n",
            " Df.diff LogLik.diff  Chisq    p.value\n",
            "      -5     -95.556 191.11 2.2597e-39\n",
            "\n",
            "$Number.of.observations\n",
            "          \n",
            "Model: 559\n",
            "Null:  559\n",
            "\n",
            "$Messages\n",
            "[1] \"Note: For models fit with REML, these statistics are based on refitting with ML\"\n",
            "\n",
            "$Warnings\n",
            "[1] \"None\"\n",
            "\n"
          ]
        }
      ]
    },
    {
      "cell_type": "code",
      "source": [
        "install.packages(\"pROC\")\n",
        "library(pROC)"
      ],
      "metadata": {
        "colab": {
          "base_uri": "https://localhost:8080/"
        },
        "id": "plterb6M4oVE",
        "outputId": "e28bfe7a-019c-40a3-fe77-dd323721339f",
        "collapsed": true
      },
      "execution_count": null,
      "outputs": [
        {
          "output_type": "stream",
          "name": "stderr",
          "text": [
            "Installing package into ‘/usr/local/lib/R/site-library’\n",
            "(as ‘lib’ is unspecified)\n",
            "\n",
            "Type 'citation(\"pROC\")' for a citation.\n",
            "\n",
            "\n",
            "Attaching package: ‘pROC’\n",
            "\n",
            "\n",
            "The following objects are masked from ‘package:stats’:\n",
            "\n",
            "    cov, smooth, var\n",
            "\n",
            "\n"
          ]
        }
      ]
    },
    {
      "cell_type": "code",
      "source": [
        "rocplot = roc(train$default, prd_default)\n",
        "plot(rocplot)"
      ],
      "metadata": {
        "colab": {
          "base_uri": "https://localhost:8080/",
          "height": 506
        },
        "id": "WqLdvKGW4u_x",
        "outputId": "7d0a089a-55e4-4a08-9dbc-c699d4cff9ca"
      },
      "execution_count": null,
      "outputs": [
        {
          "output_type": "stream",
          "name": "stderr",
          "text": [
            "Setting levels: control = 0, case = 1\n",
            "\n",
            "Setting direction: controls < cases\n",
            "\n"
          ]
        },
        {
          "output_type": "display_data",
          "data": {
            "text/plain": [
              "plot without title"
            ],
            "image/png": "[encoded data removed]"
          },
          "metadata": {
            "image/png": {
              "width": 420,
              "height": 420
            }
          }
        }
      ]
    },
    {
      "cell_type": "code",
      "source": [
        "prd_val_test = predict(log_lr, val_test, type = \"response\")\n",
        "prd_test_default = ifelse(prd_val_test > 0.5, 1, 0)\n",
        "cnf_mtest = table(prd=prd_test_default, act=val_test$default)\n",
        "confusionMatrix(cnf_mtest)"
      ],
      "metadata": {
        "colab": {
          "base_uri": "https://localhost:8080/",
          "height": 485
        },
        "id": "XPU8cftSoJuA",
        "outputId": "259eced9-d19a-49a2-ef45-1c82aa9a034f"
      },
      "execution_count": null,
      "outputs": [
        {
          "output_type": "display_data",
          "data": {
            "text/plain": [
              "Confusion Matrix and Statistics\n",
              "\n",
              "   act\n",
              "prd  0  1\n",
              "  0 98 16\n",
              "  1  6 21\n",
              "                                          \n",
              "               Accuracy : 0.844           \n",
              "                 95% CI : (0.7734, 0.8996)\n",
              "    No Information Rate : 0.7376          \n",
              "    P-Value [Acc > NIR] : 0.001829        \n",
              "                                          \n",
              "                  Kappa : 0.5585          \n",
              "                                          \n",
              " Mcnemar's Test P-Value : 0.055009        \n",
              "                                          \n",
              "            Sensitivity : 0.9423          \n",
              "            Specificity : 0.5676          \n",
              "         Pos Pred Value : 0.8596          \n",
              "         Neg Pred Value : 0.7778          \n",
              "             Prevalence : 0.7376          \n",
              "         Detection Rate : 0.6950          \n",
              "   Detection Prevalence : 0.8085          \n",
              "      Balanced Accuracy : 0.7549          \n",
              "                                          \n",
              "       'Positive' Class : 0               \n",
              "                                          "
            ]
          },
          "metadata": {}
        }
      ]
    }
  ]
}